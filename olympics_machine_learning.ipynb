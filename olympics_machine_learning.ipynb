{
 "cells": [
  {
   "cell_type": "code",
   "execution_count": 115,
   "metadata": {},
   "outputs": [],
   "source": [
    "# imports\n",
    "import pandas as pd\n",
    "import sklearn as skl\n",
    "import plotly\n",
    "import numpy as np\n",
    "import seaborn as sns\n",
    "from sklearn.preprocessing import OneHotEncoder\n",
    "from sklearn.model_selection import train_test_split\n",
    "from sklearn.model_selection import RandomizedSearchCV\n",
    "from sklearn.preprocessing import StandardScaler\n",
    "import tensorflow as tf\n",
    "import keras_tuner as kt"
   ]
  },
  {
   "cell_type": "code",
   "execution_count": 116,
   "metadata": {},
   "outputs": [],
   "source": [
    "#load CSVs\n",
    "medals = pd.read_csv(\"Resources/medals_cleaned.csv\")\n",
    "results = pd.read_csv(\"Resources/clean_olympic_results.csv\")\n",
    "hosts = pd.read_csv(\"Resources/hosts_cleaned.csv\")\n",
    "athletes = pd.read_csv(\"Resources/athletes_cleaned.csv\")\n"
   ]
  },
  {
   "cell_type": "code",
   "execution_count": 117,
   "metadata": {},
   "outputs": [
    {
     "data": {
      "text/html": [
       "<div>\n",
       "<style scoped>\n",
       "    .dataframe tbody tr th:only-of-type {\n",
       "        vertical-align: middle;\n",
       "    }\n",
       "\n",
       "    .dataframe tbody tr th {\n",
       "        vertical-align: top;\n",
       "    }\n",
       "\n",
       "    .dataframe thead th {\n",
       "        text-align: right;\n",
       "    }\n",
       "</style>\n",
       "<table border=\"1\" class=\"dataframe\">\n",
       "  <thead>\n",
       "    <tr style=\"text-align: right;\">\n",
       "      <th></th>\n",
       "      <th>game_slug</th>\n",
       "      <th>game_end_date</th>\n",
       "      <th>game_start_date</th>\n",
       "      <th>game_location</th>\n",
       "      <th>game_name</th>\n",
       "      <th>game_season</th>\n",
       "      <th>game_year</th>\n",
       "      <th>discipline_title</th>\n",
       "      <th>slug_game</th>\n",
       "      <th>event_title</th>\n",
       "      <th>event_gender</th>\n",
       "      <th>medal_type</th>\n",
       "      <th>participant_type</th>\n",
       "      <th>country_name</th>\n",
       "      <th>country_code</th>\n",
       "      <th>country_3_letter_code</th>\n",
       "    </tr>\n",
       "  </thead>\n",
       "  <tbody>\n",
       "    <tr>\n",
       "      <th>0</th>\n",
       "      <td>tokyo-2020</td>\n",
       "      <td>2021-08-08</td>\n",
       "      <td>2021-07-23</td>\n",
       "      <td>Japan</td>\n",
       "      <td>Tokyo 2020</td>\n",
       "      <td>Summer</td>\n",
       "      <td>2020</td>\n",
       "      <td>Shooting</td>\n",
       "      <td>tokyo-2020</td>\n",
       "      <td>Trap Mixed Team</td>\n",
       "      <td>Mixed</td>\n",
       "      <td>GOLD</td>\n",
       "      <td>GameTeam</td>\n",
       "      <td>Spain</td>\n",
       "      <td>ES</td>\n",
       "      <td>ESP</td>\n",
       "    </tr>\n",
       "    <tr>\n",
       "      <th>1</th>\n",
       "      <td>tokyo-2020</td>\n",
       "      <td>2021-08-08</td>\n",
       "      <td>2021-07-23</td>\n",
       "      <td>Japan</td>\n",
       "      <td>Tokyo 2020</td>\n",
       "      <td>Summer</td>\n",
       "      <td>2020</td>\n",
       "      <td>Shooting</td>\n",
       "      <td>tokyo-2020</td>\n",
       "      <td>Trap Mixed Team</td>\n",
       "      <td>Mixed</td>\n",
       "      <td>GOLD</td>\n",
       "      <td>GameTeam</td>\n",
       "      <td>Spain</td>\n",
       "      <td>ES</td>\n",
       "      <td>ESP</td>\n",
       "    </tr>\n",
       "    <tr>\n",
       "      <th>2</th>\n",
       "      <td>tokyo-2020</td>\n",
       "      <td>2021-08-08</td>\n",
       "      <td>2021-07-23</td>\n",
       "      <td>Japan</td>\n",
       "      <td>Tokyo 2020</td>\n",
       "      <td>Summer</td>\n",
       "      <td>2020</td>\n",
       "      <td>Shooting</td>\n",
       "      <td>tokyo-2020</td>\n",
       "      <td>Trap Mixed Team</td>\n",
       "      <td>Mixed</td>\n",
       "      <td>SILVER</td>\n",
       "      <td>GameTeam</td>\n",
       "      <td>San Marino</td>\n",
       "      <td>SM</td>\n",
       "      <td>SMR</td>\n",
       "    </tr>\n",
       "    <tr>\n",
       "      <th>3</th>\n",
       "      <td>tokyo-2020</td>\n",
       "      <td>2021-08-08</td>\n",
       "      <td>2021-07-23</td>\n",
       "      <td>Japan</td>\n",
       "      <td>Tokyo 2020</td>\n",
       "      <td>Summer</td>\n",
       "      <td>2020</td>\n",
       "      <td>Shooting</td>\n",
       "      <td>tokyo-2020</td>\n",
       "      <td>Trap Mixed Team</td>\n",
       "      <td>Mixed</td>\n",
       "      <td>SILVER</td>\n",
       "      <td>GameTeam</td>\n",
       "      <td>San Marino</td>\n",
       "      <td>SM</td>\n",
       "      <td>SMR</td>\n",
       "    </tr>\n",
       "    <tr>\n",
       "      <th>4</th>\n",
       "      <td>tokyo-2020</td>\n",
       "      <td>2021-08-08</td>\n",
       "      <td>2021-07-23</td>\n",
       "      <td>Japan</td>\n",
       "      <td>Tokyo 2020</td>\n",
       "      <td>Summer</td>\n",
       "      <td>2020</td>\n",
       "      <td>Shooting</td>\n",
       "      <td>tokyo-2020</td>\n",
       "      <td>Trap Mixed Team</td>\n",
       "      <td>Mixed</td>\n",
       "      <td>BRONZE</td>\n",
       "      <td>GameTeam</td>\n",
       "      <td>United States of America</td>\n",
       "      <td>US</td>\n",
       "      <td>USA</td>\n",
       "    </tr>\n",
       "    <tr>\n",
       "      <th>5</th>\n",
       "      <td>tokyo-2020</td>\n",
       "      <td>2021-08-08</td>\n",
       "      <td>2021-07-23</td>\n",
       "      <td>Japan</td>\n",
       "      <td>Tokyo 2020</td>\n",
       "      <td>Summer</td>\n",
       "      <td>2020</td>\n",
       "      <td>Shooting</td>\n",
       "      <td>tokyo-2020</td>\n",
       "      <td>Trap Mixed Team</td>\n",
       "      <td>Mixed</td>\n",
       "      <td>BRONZE</td>\n",
       "      <td>GameTeam</td>\n",
       "      <td>United States of America</td>\n",
       "      <td>US</td>\n",
       "      <td>USA</td>\n",
       "    </tr>\n",
       "    <tr>\n",
       "      <th>6</th>\n",
       "      <td>tokyo-2020</td>\n",
       "      <td>2021-08-08</td>\n",
       "      <td>2021-07-23</td>\n",
       "      <td>Japan</td>\n",
       "      <td>Tokyo 2020</td>\n",
       "      <td>Summer</td>\n",
       "      <td>2020</td>\n",
       "      <td>Shooting</td>\n",
       "      <td>tokyo-2020</td>\n",
       "      <td>50m Rifle 3 Positions women</td>\n",
       "      <td>Women</td>\n",
       "      <td>SILVER</td>\n",
       "      <td>Athlete</td>\n",
       "      <td>ROC</td>\n",
       "      <td>ROC</td>\n",
       "      <td>ROC</td>\n",
       "    </tr>\n",
       "    <tr>\n",
       "      <th>7</th>\n",
       "      <td>tokyo-2020</td>\n",
       "      <td>2021-08-08</td>\n",
       "      <td>2021-07-23</td>\n",
       "      <td>Japan</td>\n",
       "      <td>Tokyo 2020</td>\n",
       "      <td>Summer</td>\n",
       "      <td>2020</td>\n",
       "      <td>Shooting</td>\n",
       "      <td>tokyo-2020</td>\n",
       "      <td>50m Rifle 3 Positions women</td>\n",
       "      <td>Women</td>\n",
       "      <td>BRONZE</td>\n",
       "      <td>Athlete</td>\n",
       "      <td>ROC</td>\n",
       "      <td>ROC</td>\n",
       "      <td>ROC</td>\n",
       "    </tr>\n",
       "    <tr>\n",
       "      <th>8</th>\n",
       "      <td>tokyo-2020</td>\n",
       "      <td>2021-08-08</td>\n",
       "      <td>2021-07-23</td>\n",
       "      <td>Japan</td>\n",
       "      <td>Tokyo 2020</td>\n",
       "      <td>Summer</td>\n",
       "      <td>2020</td>\n",
       "      <td>Shooting</td>\n",
       "      <td>tokyo-2020</td>\n",
       "      <td>50m Rifle 3 Positions women</td>\n",
       "      <td>Women</td>\n",
       "      <td>GOLD</td>\n",
       "      <td>Athlete</td>\n",
       "      <td>Switzerland</td>\n",
       "      <td>CH</td>\n",
       "      <td>SUI</td>\n",
       "    </tr>\n",
       "    <tr>\n",
       "      <th>9</th>\n",
       "      <td>tokyo-2020</td>\n",
       "      <td>2021-08-08</td>\n",
       "      <td>2021-07-23</td>\n",
       "      <td>Japan</td>\n",
       "      <td>Tokyo 2020</td>\n",
       "      <td>Summer</td>\n",
       "      <td>2020</td>\n",
       "      <td>Shooting</td>\n",
       "      <td>tokyo-2020</td>\n",
       "      <td>50m Rifle 3 Positions Men</td>\n",
       "      <td>Men</td>\n",
       "      <td>BRONZE</td>\n",
       "      <td>Athlete</td>\n",
       "      <td>Serbia</td>\n",
       "      <td>RS</td>\n",
       "      <td>SRB</td>\n",
       "    </tr>\n",
       "  </tbody>\n",
       "</table>\n",
       "</div>"
      ],
      "text/plain": [
       "    game_slug game_end_date game_start_date game_location   game_name  \\\n",
       "0  tokyo-2020    2021-08-08      2021-07-23         Japan  Tokyo 2020   \n",
       "1  tokyo-2020    2021-08-08      2021-07-23         Japan  Tokyo 2020   \n",
       "2  tokyo-2020    2021-08-08      2021-07-23         Japan  Tokyo 2020   \n",
       "3  tokyo-2020    2021-08-08      2021-07-23         Japan  Tokyo 2020   \n",
       "4  tokyo-2020    2021-08-08      2021-07-23         Japan  Tokyo 2020   \n",
       "5  tokyo-2020    2021-08-08      2021-07-23         Japan  Tokyo 2020   \n",
       "6  tokyo-2020    2021-08-08      2021-07-23         Japan  Tokyo 2020   \n",
       "7  tokyo-2020    2021-08-08      2021-07-23         Japan  Tokyo 2020   \n",
       "8  tokyo-2020    2021-08-08      2021-07-23         Japan  Tokyo 2020   \n",
       "9  tokyo-2020    2021-08-08      2021-07-23         Japan  Tokyo 2020   \n",
       "\n",
       "  game_season  game_year discipline_title   slug_game  \\\n",
       "0      Summer       2020         Shooting  tokyo-2020   \n",
       "1      Summer       2020         Shooting  tokyo-2020   \n",
       "2      Summer       2020         Shooting  tokyo-2020   \n",
       "3      Summer       2020         Shooting  tokyo-2020   \n",
       "4      Summer       2020         Shooting  tokyo-2020   \n",
       "5      Summer       2020         Shooting  tokyo-2020   \n",
       "6      Summer       2020         Shooting  tokyo-2020   \n",
       "7      Summer       2020         Shooting  tokyo-2020   \n",
       "8      Summer       2020         Shooting  tokyo-2020   \n",
       "9      Summer       2020         Shooting  tokyo-2020   \n",
       "\n",
       "                   event_title event_gender medal_type participant_type  \\\n",
       "0              Trap Mixed Team        Mixed       GOLD         GameTeam   \n",
       "1              Trap Mixed Team        Mixed       GOLD         GameTeam   \n",
       "2              Trap Mixed Team        Mixed     SILVER         GameTeam   \n",
       "3              Trap Mixed Team        Mixed     SILVER         GameTeam   \n",
       "4              Trap Mixed Team        Mixed     BRONZE         GameTeam   \n",
       "5              Trap Mixed Team        Mixed     BRONZE         GameTeam   \n",
       "6  50m Rifle 3 Positions women        Women     SILVER          Athlete   \n",
       "7  50m Rifle 3 Positions women        Women     BRONZE          Athlete   \n",
       "8  50m Rifle 3 Positions women        Women       GOLD          Athlete   \n",
       "9    50m Rifle 3 Positions Men          Men     BRONZE          Athlete   \n",
       "\n",
       "               country_name country_code country_3_letter_code  \n",
       "0                     Spain           ES                   ESP  \n",
       "1                     Spain           ES                   ESP  \n",
       "2                San Marino           SM                   SMR  \n",
       "3                San Marino           SM                   SMR  \n",
       "4  United States of America           US                   USA  \n",
       "5  United States of America           US                   USA  \n",
       "6                       ROC          ROC                   ROC  \n",
       "7                       ROC          ROC                   ROC  \n",
       "8               Switzerland           CH                   SUI  \n",
       "9                    Serbia           RS                   SRB  "
      ]
     },
     "execution_count": 117,
     "metadata": {},
     "output_type": "execute_result"
    }
   ],
   "source": [
    "#Merge olympics_hosts and olympics_medals. Code based off eda from https://www.kaggle.com/kalilurrahman/olympic-games-eda\n",
    "\n",
    "olympics_results = pd.merge(hosts, medals,\n",
    "                           left_on=  ['game_slug'],\n",
    "                           right_on= ['slug_game'],\n",
    "                           how = 'left')\n",
    "olympics_results.head(10)"
   ]
  },
  {
   "cell_type": "code",
   "execution_count": 118,
   "metadata": {},
   "outputs": [
    {
     "name": "stderr",
     "output_type": "stream",
     "text": [
      "/Users/rafaelpeterson/opt/anaconda3/envs/mlenv/lib/python3.7/site-packages/ipykernel_launcher.py:1: FutureWarning: In a future version of pandas all arguments of DataFrame.drop except for the argument 'labels' will be keyword-only\n",
      "  \"\"\"Entry point for launching an IPython kernel.\n"
     ]
    }
   ],
   "source": [
    "clean_olympics_results= olympics_results.drop(['game_end_date', 'game_start_date', 'game_slug', 'game_year', 'event_title', 'country_3_letter_code', 'slug_game', 'country_code', 'game_name'], 1)"
   ]
  },
  {
   "cell_type": "code",
   "execution_count": 119,
   "metadata": {},
   "outputs": [
    {
     "data": {
      "text/plain": [
       "Index(['game_location', 'game_season', 'discipline_title', 'event_gender',\n",
       "       'medal_type', 'participant_type', 'country_name'],\n",
       "      dtype='object')"
      ]
     },
     "execution_count": 119,
     "metadata": {},
     "output_type": "execute_result"
    }
   ],
   "source": [
    "clean_olympics_results.columns"
   ]
  },
  {
   "cell_type": "code",
   "execution_count": 120,
   "metadata": {},
   "outputs": [],
   "source": [
    "# condensing country names\n",
    "\n",
    "clean_olympics_results[\"game_location\"].replace({\"Russian Federation\": \"Russia\",\n",
    "                        \"Soviet Union\": \"Russia\",\n",
    "                        \"Unified team\": \"Russia\",\n",
    "                        \"West Germany\": \"Germany\",\n",
    "                        \"East Germany\": \"Germany\",\n",
    "                        \"German Democratic Republic (Germany)\": \"Germany\",\n",
    "                        \"Federal Republic of Germany\": \"Germany\",\n",
    "                        \"Australia, Sweden\" : \"Australia\",\n",
    "                        \"USSR\" : \"Russia\"}, inplace=True)\n",
    "\n",
    "clean_olympics_results[\"country_name\"].replace({\"Russian Federation\": \"Russia\",\n",
    "                        \"Soviet Union\": \"Russia\",\n",
    "                        \"Unified team\": \"Russia\",\n",
    "                        \"West Germany\": \"Germany\",\n",
    "                        \"East Germany\": \"Germany\",\n",
    "                        \"German Democratic Republic (Germany)\": \"Germany\",\n",
    "                        \"Federal Republic of Germany\": \"Germany\",\n",
    "                        \"Australia, Sweden\" : \"Australia\",\n",
    "                        \"USSR\" : \"Russia\"}, inplace=True)"
   ]
  },
  {
   "cell_type": "code",
   "execution_count": 121,
   "metadata": {},
   "outputs": [],
   "source": [
    "# create CSV\n",
    "clean_olympics_results.to_csv('Resources/clean_olympic_results.csv', index=False)"
   ]
  },
  {
   "cell_type": "code",
   "execution_count": 122,
   "metadata": {},
   "outputs": [
    {
     "data": {
      "text/plain": [
       "United States of America    3063\n",
       "Germany                     1959\n",
       "Russia                      1871\n",
       "Great Britain               1041\n",
       "France                       932\n",
       "                            ... \n",
       "Mauritius                      1\n",
       "Gabon                          1\n",
       "Guatemala                      1\n",
       "Cyprus                         1\n",
       "Montenegro                     1\n",
       "Name: country_name, Length: 151, dtype: int64"
      ]
     },
     "execution_count": 122,
     "metadata": {},
     "output_type": "execute_result"
    }
   ],
   "source": [
    "# binning countries\n",
    "country_counts = clean_olympics_results.country_name.value_counts()\n",
    "country_counts"
   ]
  },
  {
   "cell_type": "code",
   "execution_count": 123,
   "metadata": {},
   "outputs": [
    {
     "data": {
      "text/plain": [
       "(0.0, 800.0)"
      ]
     },
     "execution_count": 123,
     "metadata": {},
     "output_type": "execute_result"
    },
    {
     "data": {
      "image/png": "[encoded data removed]",
      "text/plain": [
       "<Figure size 432x288 with 1 Axes>"
      ]
     },
     "metadata": {},
     "output_type": "display_data"
    }
   ],
   "source": [
    "# checking density\n",
    "sns.set_style('whitegrid')\n",
    "gfg = sns.kdeplot(np.array(country_counts))\n",
    "gfg.set_xlim(0, 800)\n"
   ]
  },
  {
   "cell_type": "code",
   "execution_count": 124,
   "metadata": {},
   "outputs": [
    {
     "data": {
      "text/plain": [
       "Other                         9557\n",
       "United States of America      3063\n",
       "Germany                       1959\n",
       "Russia                        1871\n",
       "Great Britain                 1041\n",
       "France                         932\n",
       "People's Republic of China     790\n",
       "Italy                          785\n",
       "Sweden                         689\n",
       "Australia                      623\n",
       "Name: country_name, dtype: int64"
      ]
     },
     "execution_count": 124,
     "metadata": {},
     "output_type": "execute_result"
    }
   ],
   "source": [
    "# Determine which values to replace\n",
    "replace_countries = list(country_counts[country_counts < 600].index)\n",
    "\n",
    "# Replace in DataFrame\n",
    "for country in replace_countries:\n",
    "    clean_olympics_results.country_name = clean_olympics_results.country_name.replace(country,\"Other\")\n",
    "\n",
    "\n",
    "# Check to make sure binning was successful\n",
    "clean_olympics_results.country_name.value_counts()"
   ]
  },
  {
   "cell_type": "code",
   "execution_count": 125,
   "metadata": {},
   "outputs": [
    {
     "data": {
      "text/plain": [
       "United States        2802\n",
       "Japan                2027\n",
       "Great Britain        1823\n",
       "Australia            1501\n",
       "Greece               1148\n",
       "Republic of Korea    1128\n",
       "Canada               1081\n",
       "Germany              1075\n",
       "Brazil               1063\n",
       "China                1044\n",
       "France               1033\n",
       "Russia                984\n",
       "Spain                 887\n",
       "Italy                 835\n",
       "Mexico                551\n",
       "Finland               465\n",
       "Belgium               457\n",
       "Netherlands           331\n",
       "Sweden                323\n",
       "Norway                268\n",
       "Austria               237\n",
       "Yugoslavia            129\n",
       "Switzerland           118\n",
       "Name: game_location, dtype: int64"
      ]
     },
     "execution_count": 125,
     "metadata": {},
     "output_type": "execute_result"
    }
   ],
   "source": [
    "location_counts = clean_olympics_results.game_location.value_counts()\n",
    "location_counts"
   ]
  },
  {
   "cell_type": "code",
   "execution_count": 126,
   "metadata": {},
   "outputs": [
    {
     "data": {
      "text/plain": [
       "(0.0, 1500.0)"
      ]
     },
     "execution_count": 126,
     "metadata": {},
     "output_type": "execute_result"
    },
    {
     "data": {
      "image/png": "[encoded data removed]",
      "text/plain": [
       "<Figure size 432x288 with 1 Axes>"
      ]
     },
     "metadata": {},
     "output_type": "display_data"
    }
   ],
   "source": [
    "#checking density\n",
    "sns.set_style('whitegrid')\n",
    "gfg = sns.kdeplot(np.array(location_counts))\n",
    "gfg.set_xlim(0, 1500)"
   ]
  },
  {
   "cell_type": "code",
   "execution_count": 127,
   "metadata": {},
   "outputs": [
    {
     "data": {
      "text/plain": [
       "Other            11714\n",
       "United States     2802\n",
       "Great Britain     1823\n",
       "Germany           1075\n",
       "China             1044\n",
       "France            1033\n",
       "Russia             984\n",
       "Italy              835\n",
       "Name: game_location, dtype: int64"
      ]
     },
     "execution_count": 127,
     "metadata": {},
     "output_type": "execute_result"
    }
   ],
   "source": [
    "# Determine which values to replace\n",
    "replace_locations = list(country_counts[country_counts < 700].index)\n",
    "\n",
    "# Replace in DataFrame\n",
    "for country in replace_locations:\n",
    "    clean_olympics_results.game_location = clean_olympics_results.game_location.replace(country,\"Other\")\n",
    "\n",
    "\n",
    "# Check to make sure binning was successful\n",
    "clean_olympics_results.game_location.value_counts()"
   ]
  },
  {
   "cell_type": "code",
   "execution_count": 128,
   "metadata": {},
   "outputs": [
    {
     "data": {
      "text/plain": [
       "Athletics            3076\n",
       "Swimming             1763\n",
       "Wrestling            1354\n",
       "Rowing               1068\n",
       "Boxing                996\n",
       "                     ... \n",
       "Jeu de Paume            3\n",
       "Water Motorsports       3\n",
       "Roque                   3\n",
       "Cricket                 2\n",
       "Basque Pelota           2\n",
       "Name: discipline_title, Length: 86, dtype: int64"
      ]
     },
     "execution_count": 128,
     "metadata": {},
     "output_type": "execute_result"
    }
   ],
   "source": [
    "titles = clean_olympics_results.discipline_title.value_counts()\n",
    "titles"
   ]
  },
  {
   "cell_type": "code",
   "execution_count": 129,
   "metadata": {},
   "outputs": [
    {
     "data": {
      "text/plain": [
       "(0.0, 1500.0)"
      ]
     },
     "execution_count": 129,
     "metadata": {},
     "output_type": "execute_result"
    },
    {
     "data": {
      "image/png": "[encoded data removed]",
      "text/plain": [
       "<Figure size 432x288 with 1 Axes>"
      ]
     },
     "metadata": {},
     "output_type": "display_data"
    }
   ],
   "source": [
    "#checking density\n",
    "sns.set_style('whitegrid')\n",
    "gfg = sns.kdeplot(np.array(titles))\n",
    "gfg.set_xlim(0, 1500)"
   ]
  },
  {
   "cell_type": "code",
   "execution_count": 130,
   "metadata": {},
   "outputs": [
    {
     "data": {
      "text/plain": [
       "Other                  10407\n",
       "Athletics               3076\n",
       "Swimming                1763\n",
       "Wrestling               1354\n",
       "Rowing                  1068\n",
       "Boxing                   996\n",
       "Gymnastics Artistic      979\n",
       "Shooting                 869\n",
       "Canoe Sprint             798\n",
       "Name: discipline_title, dtype: int64"
      ]
     },
     "execution_count": 130,
     "metadata": {},
     "output_type": "execute_result"
    }
   ],
   "source": [
    "# Determine which values to replace\n",
    "title_replacements = list(titles[titles < 790].index)\n",
    "\n",
    "# Replace in DataFrame\n",
    "for discipline in title_replacements:\n",
    "    clean_olympics_results.discipline_title = clean_olympics_results.discipline_title.replace(discipline,\"Other\")\n",
    "\n",
    "\n",
    "# Check to make sure binning was successful\n",
    "clean_olympics_results.discipline_title.value_counts()"
   ]
  },
  {
   "cell_type": "code",
   "execution_count": 131,
   "metadata": {},
   "outputs": [],
   "source": [
    "# # categorizing medal type into int (1 = gold, 2 = silver, 3 = bronze)\n",
    "# # loc\n",
    "# clean_olympics_results.loc[(clean_olympics_results.medal_type =='GOLD'), 'medal_type']='1'\n",
    "# clean_olympics_results.loc[(clean_olympics_results.medal_type =='SILVER'), 'medal_type']='2'\n",
    "# clean_olympics_results.loc[(clean_olympics_results.medal_type =='BRONZE'), 'medal_type']='3'\n",
    "    "
   ]
  },
  {
   "cell_type": "code",
   "execution_count": 132,
   "metadata": {},
   "outputs": [],
   "source": [
    "# # converting column to int\n",
    "# clean_olympics_results['medal_type']= clean_olympics_results['medal_type'].astype(int)"
   ]
  },
  {
   "cell_type": "code",
   "execution_count": 133,
   "metadata": {},
   "outputs": [],
   "source": [
    "# Generate our categorical variable list\n",
    "olympics_cat = clean_olympics_results.dtypes[clean_olympics_results.dtypes == \"object\"].index.tolist()\n"
   ]
  },
  {
   "cell_type": "code",
   "execution_count": 134,
   "metadata": {},
   "outputs": [
    {
     "data": {
      "text/plain": [
       "game_location        8\n",
       "game_season          2\n",
       "discipline_title     9\n",
       "event_gender         4\n",
       "medal_type           3\n",
       "participant_type     2\n",
       "country_name        10\n",
       "dtype: int64"
      ]
     },
     "execution_count": 134,
     "metadata": {},
     "output_type": "execute_result"
    }
   ],
   "source": [
    "# Check the number of unique values in each column\n",
    "clean_olympics_results[olympics_cat].nunique()"
   ]
  },
  {
   "cell_type": "code",
   "execution_count": 135,
   "metadata": {},
   "outputs": [
    {
     "name": "stderr",
     "output_type": "stream",
     "text": [
      "/Users/rafaelpeterson/opt/anaconda3/envs/mlenv/lib/python3.7/site-packages/sklearn/utils/deprecation.py:87: FutureWarning: Function get_feature_names is deprecated; get_feature_names is deprecated in 1.0 and will be removed in 1.2. Please use get_feature_names_out instead.\n",
      "  warnings.warn(msg, category=FutureWarning)\n"
     ]
    },
    {
     "data": {
      "text/html": [
       "<div>\n",
       "<style scoped>\n",
       "    .dataframe tbody tr th:only-of-type {\n",
       "        vertical-align: middle;\n",
       "    }\n",
       "\n",
       "    .dataframe tbody tr th {\n",
       "        vertical-align: top;\n",
       "    }\n",
       "\n",
       "    .dataframe thead th {\n",
       "        text-align: right;\n",
       "    }\n",
       "</style>\n",
       "<table border=\"1\" class=\"dataframe\">\n",
       "  <thead>\n",
       "    <tr style=\"text-align: right;\">\n",
       "      <th></th>\n",
       "      <th>game_location_China</th>\n",
       "      <th>game_location_France</th>\n",
       "      <th>game_location_Germany</th>\n",
       "      <th>game_location_Great Britain</th>\n",
       "      <th>game_location_Italy</th>\n",
       "      <th>game_location_Other</th>\n",
       "      <th>game_location_Russia</th>\n",
       "      <th>game_location_United States</th>\n",
       "      <th>game_season_Summer</th>\n",
       "      <th>game_season_Winter</th>\n",
       "      <th>...</th>\n",
       "      <th>country_name_Australia</th>\n",
       "      <th>country_name_France</th>\n",
       "      <th>country_name_Germany</th>\n",
       "      <th>country_name_Great Britain</th>\n",
       "      <th>country_name_Italy</th>\n",
       "      <th>country_name_Other</th>\n",
       "      <th>country_name_People's Republic of China</th>\n",
       "      <th>country_name_Russia</th>\n",
       "      <th>country_name_Sweden</th>\n",
       "      <th>country_name_United States of America</th>\n",
       "    </tr>\n",
       "  </thead>\n",
       "  <tbody>\n",
       "    <tr>\n",
       "      <th>0</th>\n",
       "      <td>0.0</td>\n",
       "      <td>0.0</td>\n",
       "      <td>0.0</td>\n",
       "      <td>0.0</td>\n",
       "      <td>0.0</td>\n",
       "      <td>1.0</td>\n",
       "      <td>0.0</td>\n",
       "      <td>0.0</td>\n",
       "      <td>1.0</td>\n",
       "      <td>0.0</td>\n",
       "      <td>...</td>\n",
       "      <td>0.0</td>\n",
       "      <td>0.0</td>\n",
       "      <td>0.0</td>\n",
       "      <td>0.0</td>\n",
       "      <td>0.0</td>\n",
       "      <td>1.0</td>\n",
       "      <td>0.0</td>\n",
       "      <td>0.0</td>\n",
       "      <td>0.0</td>\n",
       "      <td>0.0</td>\n",
       "    </tr>\n",
       "    <tr>\n",
       "      <th>1</th>\n",
       "      <td>0.0</td>\n",
       "      <td>0.0</td>\n",
       "      <td>0.0</td>\n",
       "      <td>0.0</td>\n",
       "      <td>0.0</td>\n",
       "      <td>1.0</td>\n",
       "      <td>0.0</td>\n",
       "      <td>0.0</td>\n",
       "      <td>1.0</td>\n",
       "      <td>0.0</td>\n",
       "      <td>...</td>\n",
       "      <td>0.0</td>\n",
       "      <td>0.0</td>\n",
       "      <td>0.0</td>\n",
       "      <td>0.0</td>\n",
       "      <td>0.0</td>\n",
       "      <td>1.0</td>\n",
       "      <td>0.0</td>\n",
       "      <td>0.0</td>\n",
       "      <td>0.0</td>\n",
       "      <td>0.0</td>\n",
       "    </tr>\n",
       "    <tr>\n",
       "      <th>2</th>\n",
       "      <td>0.0</td>\n",
       "      <td>0.0</td>\n",
       "      <td>0.0</td>\n",
       "      <td>0.0</td>\n",
       "      <td>0.0</td>\n",
       "      <td>1.0</td>\n",
       "      <td>0.0</td>\n",
       "      <td>0.0</td>\n",
       "      <td>1.0</td>\n",
       "      <td>0.0</td>\n",
       "      <td>...</td>\n",
       "      <td>0.0</td>\n",
       "      <td>0.0</td>\n",
       "      <td>0.0</td>\n",
       "      <td>0.0</td>\n",
       "      <td>0.0</td>\n",
       "      <td>1.0</td>\n",
       "      <td>0.0</td>\n",
       "      <td>0.0</td>\n",
       "      <td>0.0</td>\n",
       "      <td>0.0</td>\n",
       "    </tr>\n",
       "    <tr>\n",
       "      <th>3</th>\n",
       "      <td>0.0</td>\n",
       "      <td>0.0</td>\n",
       "      <td>0.0</td>\n",
       "      <td>0.0</td>\n",
       "      <td>0.0</td>\n",
       "      <td>1.0</td>\n",
       "      <td>0.0</td>\n",
       "      <td>0.0</td>\n",
       "      <td>1.0</td>\n",
       "      <td>0.0</td>\n",
       "      <td>...</td>\n",
       "      <td>0.0</td>\n",
       "      <td>0.0</td>\n",
       "      <td>0.0</td>\n",
       "      <td>0.0</td>\n",
       "      <td>0.0</td>\n",
       "      <td>1.0</td>\n",
       "      <td>0.0</td>\n",
       "      <td>0.0</td>\n",
       "      <td>0.0</td>\n",
       "      <td>0.0</td>\n",
       "    </tr>\n",
       "    <tr>\n",
       "      <th>4</th>\n",
       "      <td>0.0</td>\n",
       "      <td>0.0</td>\n",
       "      <td>0.0</td>\n",
       "      <td>0.0</td>\n",
       "      <td>0.0</td>\n",
       "      <td>1.0</td>\n",
       "      <td>0.0</td>\n",
       "      <td>0.0</td>\n",
       "      <td>1.0</td>\n",
       "      <td>0.0</td>\n",
       "      <td>...</td>\n",
       "      <td>0.0</td>\n",
       "      <td>0.0</td>\n",
       "      <td>0.0</td>\n",
       "      <td>0.0</td>\n",
       "      <td>0.0</td>\n",
       "      <td>0.0</td>\n",
       "      <td>0.0</td>\n",
       "      <td>0.0</td>\n",
       "      <td>0.0</td>\n",
       "      <td>1.0</td>\n",
       "    </tr>\n",
       "  </tbody>\n",
       "</table>\n",
       "<p>5 rows × 38 columns</p>\n",
       "</div>"
      ],
      "text/plain": [
       "   game_location_China  game_location_France  game_location_Germany  \\\n",
       "0                  0.0                   0.0                    0.0   \n",
       "1                  0.0                   0.0                    0.0   \n",
       "2                  0.0                   0.0                    0.0   \n",
       "3                  0.0                   0.0                    0.0   \n",
       "4                  0.0                   0.0                    0.0   \n",
       "\n",
       "   game_location_Great Britain  game_location_Italy  game_location_Other  \\\n",
       "0                          0.0                  0.0                  1.0   \n",
       "1                          0.0                  0.0                  1.0   \n",
       "2                          0.0                  0.0                  1.0   \n",
       "3                          0.0                  0.0                  1.0   \n",
       "4                          0.0                  0.0                  1.0   \n",
       "\n",
       "   game_location_Russia  game_location_United States  game_season_Summer  \\\n",
       "0                   0.0                          0.0                 1.0   \n",
       "1                   0.0                          0.0                 1.0   \n",
       "2                   0.0                          0.0                 1.0   \n",
       "3                   0.0                          0.0                 1.0   \n",
       "4                   0.0                          0.0                 1.0   \n",
       "\n",
       "   game_season_Winter  ...  country_name_Australia  country_name_France  \\\n",
       "0                 0.0  ...                     0.0                  0.0   \n",
       "1                 0.0  ...                     0.0                  0.0   \n",
       "2                 0.0  ...                     0.0                  0.0   \n",
       "3                 0.0  ...                     0.0                  0.0   \n",
       "4                 0.0  ...                     0.0                  0.0   \n",
       "\n",
       "   country_name_Germany  country_name_Great Britain  country_name_Italy  \\\n",
       "0                   0.0                         0.0                 0.0   \n",
       "1                   0.0                         0.0                 0.0   \n",
       "2                   0.0                         0.0                 0.0   \n",
       "3                   0.0                         0.0                 0.0   \n",
       "4                   0.0                         0.0                 0.0   \n",
       "\n",
       "   country_name_Other  country_name_People's Republic of China  \\\n",
       "0                 1.0                                      0.0   \n",
       "1                 1.0                                      0.0   \n",
       "2                 1.0                                      0.0   \n",
       "3                 1.0                                      0.0   \n",
       "4                 0.0                                      0.0   \n",
       "\n",
       "   country_name_Russia  country_name_Sweden  \\\n",
       "0                  0.0                  0.0   \n",
       "1                  0.0                  0.0   \n",
       "2                  0.0                  0.0   \n",
       "3                  0.0                  0.0   \n",
       "4                  0.0                  0.0   \n",
       "\n",
       "   country_name_United States of America  \n",
       "0                                    0.0  \n",
       "1                                    0.0  \n",
       "2                                    0.0  \n",
       "3                                    0.0  \n",
       "4                                    1.0  \n",
       "\n",
       "[5 rows x 38 columns]"
      ]
     },
     "execution_count": 135,
     "metadata": {},
     "output_type": "execute_result"
    }
   ],
   "source": [
    "# Create a OneHotEncoder instance\n",
    "enc = OneHotEncoder(sparse=False)\n",
    "\n",
    "# Fit and transform the OneHotEncoder using the categorical variable list\n",
    "encode_df = pd.DataFrame(enc.fit_transform(clean_olympics_results[olympics_cat]))\n",
    "\n",
    "# Add the encoded variable names to the DataFrame\n",
    "encode_df.columns = enc.get_feature_names(olympics_cat)\n",
    "encode_df.head()"
   ]
  },
  {
   "cell_type": "code",
   "execution_count": 136,
   "metadata": {},
   "outputs": [
    {
     "data": {
      "text/plain": [
       "Index(['game_location_China', 'game_location_France', 'game_location_Germany',\n",
       "       'game_location_Great Britain', 'game_location_Italy',\n",
       "       'game_location_Other', 'game_location_Russia',\n",
       "       'game_location_United States', 'game_season_Summer',\n",
       "       'game_season_Winter', 'discipline_title_Athletics',\n",
       "       'discipline_title_Boxing', 'discipline_title_Canoe Sprint',\n",
       "       'discipline_title_Gymnastics Artistic', 'discipline_title_Other',\n",
       "       'discipline_title_Rowing', 'discipline_title_Shooting',\n",
       "       'discipline_title_Swimming', 'discipline_title_Wrestling',\n",
       "       'event_gender_Men', 'event_gender_Mixed', 'event_gender_Open',\n",
       "       'event_gender_Women', 'medal_type_BRONZE', 'medal_type_GOLD',\n",
       "       'medal_type_SILVER', 'participant_type_Athlete',\n",
       "       'participant_type_GameTeam', 'country_name_Australia',\n",
       "       'country_name_France', 'country_name_Germany',\n",
       "       'country_name_Great Britain', 'country_name_Italy',\n",
       "       'country_name_Other', 'country_name_People's Republic of China',\n",
       "       'country_name_Russia', 'country_name_Sweden',\n",
       "       'country_name_United States of America'],\n",
       "      dtype='object')"
      ]
     },
     "execution_count": 136,
     "metadata": {},
     "output_type": "execute_result"
    }
   ],
   "source": [
    "encode_df.columns"
   ]
  },
  {
   "cell_type": "code",
   "execution_count": 137,
   "metadata": {},
   "outputs": [
    {
     "name": "stderr",
     "output_type": "stream",
     "text": [
      "/Users/rafaelpeterson/opt/anaconda3/envs/mlenv/lib/python3.7/site-packages/ipykernel_launcher.py:3: FutureWarning: In a future version of pandas all arguments of DataFrame.drop except for the argument 'labels' will be keyword-only\n",
      "  This is separate from the ipykernel package so we can avoid doing imports until\n"
     ]
    },
    {
     "data": {
      "text/html": [
       "<div>\n",
       "<style scoped>\n",
       "    .dataframe tbody tr th:only-of-type {\n",
       "        vertical-align: middle;\n",
       "    }\n",
       "\n",
       "    .dataframe tbody tr th {\n",
       "        vertical-align: top;\n",
       "    }\n",
       "\n",
       "    .dataframe thead th {\n",
       "        text-align: right;\n",
       "    }\n",
       "</style>\n",
       "<table border=\"1\" class=\"dataframe\">\n",
       "  <thead>\n",
       "    <tr style=\"text-align: right;\">\n",
       "      <th></th>\n",
       "      <th>game_location_China</th>\n",
       "      <th>game_location_France</th>\n",
       "      <th>game_location_Germany</th>\n",
       "      <th>game_location_Great Britain</th>\n",
       "      <th>game_location_Italy</th>\n",
       "      <th>game_location_Other</th>\n",
       "      <th>game_location_Russia</th>\n",
       "      <th>game_location_United States</th>\n",
       "      <th>game_season_Summer</th>\n",
       "      <th>game_season_Winter</th>\n",
       "      <th>...</th>\n",
       "      <th>country_name_Australia</th>\n",
       "      <th>country_name_France</th>\n",
       "      <th>country_name_Germany</th>\n",
       "      <th>country_name_Great Britain</th>\n",
       "      <th>country_name_Italy</th>\n",
       "      <th>country_name_Other</th>\n",
       "      <th>country_name_People's Republic of China</th>\n",
       "      <th>country_name_Russia</th>\n",
       "      <th>country_name_Sweden</th>\n",
       "      <th>country_name_United States of America</th>\n",
       "    </tr>\n",
       "  </thead>\n",
       "  <tbody>\n",
       "    <tr>\n",
       "      <th>0</th>\n",
       "      <td>0.0</td>\n",
       "      <td>0.0</td>\n",
       "      <td>0.0</td>\n",
       "      <td>0.0</td>\n",
       "      <td>0.0</td>\n",
       "      <td>1.0</td>\n",
       "      <td>0.0</td>\n",
       "      <td>0.0</td>\n",
       "      <td>1.0</td>\n",
       "      <td>0.0</td>\n",
       "      <td>...</td>\n",
       "      <td>0.0</td>\n",
       "      <td>0.0</td>\n",
       "      <td>0.0</td>\n",
       "      <td>0.0</td>\n",
       "      <td>0.0</td>\n",
       "      <td>1.0</td>\n",
       "      <td>0.0</td>\n",
       "      <td>0.0</td>\n",
       "      <td>0.0</td>\n",
       "      <td>0.0</td>\n",
       "    </tr>\n",
       "    <tr>\n",
       "      <th>1</th>\n",
       "      <td>0.0</td>\n",
       "      <td>0.0</td>\n",
       "      <td>0.0</td>\n",
       "      <td>0.0</td>\n",
       "      <td>0.0</td>\n",
       "      <td>1.0</td>\n",
       "      <td>0.0</td>\n",
       "      <td>0.0</td>\n",
       "      <td>1.0</td>\n",
       "      <td>0.0</td>\n",
       "      <td>...</td>\n",
       "      <td>0.0</td>\n",
       "      <td>0.0</td>\n",
       "      <td>0.0</td>\n",
       "      <td>0.0</td>\n",
       "      <td>0.0</td>\n",
       "      <td>1.0</td>\n",
       "      <td>0.0</td>\n",
       "      <td>0.0</td>\n",
       "      <td>0.0</td>\n",
       "      <td>0.0</td>\n",
       "    </tr>\n",
       "    <tr>\n",
       "      <th>2</th>\n",
       "      <td>0.0</td>\n",
       "      <td>0.0</td>\n",
       "      <td>0.0</td>\n",
       "      <td>0.0</td>\n",
       "      <td>0.0</td>\n",
       "      <td>1.0</td>\n",
       "      <td>0.0</td>\n",
       "      <td>0.0</td>\n",
       "      <td>1.0</td>\n",
       "      <td>0.0</td>\n",
       "      <td>...</td>\n",
       "      <td>0.0</td>\n",
       "      <td>0.0</td>\n",
       "      <td>0.0</td>\n",
       "      <td>0.0</td>\n",
       "      <td>0.0</td>\n",
       "      <td>1.0</td>\n",
       "      <td>0.0</td>\n",
       "      <td>0.0</td>\n",
       "      <td>0.0</td>\n",
       "      <td>0.0</td>\n",
       "    </tr>\n",
       "    <tr>\n",
       "      <th>3</th>\n",
       "      <td>0.0</td>\n",
       "      <td>0.0</td>\n",
       "      <td>0.0</td>\n",
       "      <td>0.0</td>\n",
       "      <td>0.0</td>\n",
       "      <td>1.0</td>\n",
       "      <td>0.0</td>\n",
       "      <td>0.0</td>\n",
       "      <td>1.0</td>\n",
       "      <td>0.0</td>\n",
       "      <td>...</td>\n",
       "      <td>0.0</td>\n",
       "      <td>0.0</td>\n",
       "      <td>0.0</td>\n",
       "      <td>0.0</td>\n",
       "      <td>0.0</td>\n",
       "      <td>1.0</td>\n",
       "      <td>0.0</td>\n",
       "      <td>0.0</td>\n",
       "      <td>0.0</td>\n",
       "      <td>0.0</td>\n",
       "    </tr>\n",
       "    <tr>\n",
       "      <th>4</th>\n",
       "      <td>0.0</td>\n",
       "      <td>0.0</td>\n",
       "      <td>0.0</td>\n",
       "      <td>0.0</td>\n",
       "      <td>0.0</td>\n",
       "      <td>1.0</td>\n",
       "      <td>0.0</td>\n",
       "      <td>0.0</td>\n",
       "      <td>1.0</td>\n",
       "      <td>0.0</td>\n",
       "      <td>...</td>\n",
       "      <td>0.0</td>\n",
       "      <td>0.0</td>\n",
       "      <td>0.0</td>\n",
       "      <td>0.0</td>\n",
       "      <td>0.0</td>\n",
       "      <td>0.0</td>\n",
       "      <td>0.0</td>\n",
       "      <td>0.0</td>\n",
       "      <td>0.0</td>\n",
       "      <td>1.0</td>\n",
       "    </tr>\n",
       "  </tbody>\n",
       "</table>\n",
       "<p>5 rows × 38 columns</p>\n",
       "</div>"
      ],
      "text/plain": [
       "   game_location_China  game_location_France  game_location_Germany  \\\n",
       "0                  0.0                   0.0                    0.0   \n",
       "1                  0.0                   0.0                    0.0   \n",
       "2                  0.0                   0.0                    0.0   \n",
       "3                  0.0                   0.0                    0.0   \n",
       "4                  0.0                   0.0                    0.0   \n",
       "\n",
       "   game_location_Great Britain  game_location_Italy  game_location_Other  \\\n",
       "0                          0.0                  0.0                  1.0   \n",
       "1                          0.0                  0.0                  1.0   \n",
       "2                          0.0                  0.0                  1.0   \n",
       "3                          0.0                  0.0                  1.0   \n",
       "4                          0.0                  0.0                  1.0   \n",
       "\n",
       "   game_location_Russia  game_location_United States  game_season_Summer  \\\n",
       "0                   0.0                          0.0                 1.0   \n",
       "1                   0.0                          0.0                 1.0   \n",
       "2                   0.0                          0.0                 1.0   \n",
       "3                   0.0                          0.0                 1.0   \n",
       "4                   0.0                          0.0                 1.0   \n",
       "\n",
       "   game_season_Winter  ...  country_name_Australia  country_name_France  \\\n",
       "0                 0.0  ...                     0.0                  0.0   \n",
       "1                 0.0  ...                     0.0                  0.0   \n",
       "2                 0.0  ...                     0.0                  0.0   \n",
       "3                 0.0  ...                     0.0                  0.0   \n",
       "4                 0.0  ...                     0.0                  0.0   \n",
       "\n",
       "   country_name_Germany  country_name_Great Britain  country_name_Italy  \\\n",
       "0                   0.0                         0.0                 0.0   \n",
       "1                   0.0                         0.0                 0.0   \n",
       "2                   0.0                         0.0                 0.0   \n",
       "3                   0.0                         0.0                 0.0   \n",
       "4                   0.0                         0.0                 0.0   \n",
       "\n",
       "   country_name_Other  country_name_People's Republic of China  \\\n",
       "0                 1.0                                      0.0   \n",
       "1                 1.0                                      0.0   \n",
       "2                 1.0                                      0.0   \n",
       "3                 1.0                                      0.0   \n",
       "4                 0.0                                      0.0   \n",
       "\n",
       "   country_name_Russia  country_name_Sweden  \\\n",
       "0                  0.0                  0.0   \n",
       "1                  0.0                  0.0   \n",
       "2                  0.0                  0.0   \n",
       "3                  0.0                  0.0   \n",
       "4                  0.0                  0.0   \n",
       "\n",
       "   country_name_United States of America  \n",
       "0                                    0.0  \n",
       "1                                    0.0  \n",
       "2                                    0.0  \n",
       "3                                    0.0  \n",
       "4                                    1.0  \n",
       "\n",
       "[5 rows x 38 columns]"
      ]
     },
     "execution_count": 137,
     "metadata": {},
     "output_type": "execute_result"
    }
   ],
   "source": [
    "# Merge one-hot encoded features and drop the originals\n",
    "clean_olympics_results = clean_olympics_results.merge(encode_df,left_index=True, right_index=True)\n",
    "clean_olympics_results = clean_olympics_results.drop(olympics_cat,1)\n",
    "clean_olympics_results.head()"
   ]
  },
  {
   "cell_type": "code",
   "execution_count": 138,
   "metadata": {},
   "outputs": [
    {
     "name": "stderr",
     "output_type": "stream",
     "text": [
      "/Users/rafaelpeterson/opt/anaconda3/envs/mlenv/lib/python3.7/site-packages/ipykernel_launcher.py:5: FutureWarning: In a future version of pandas all arguments of DataFrame.drop except for the argument 'labels' will be keyword-only\n",
      "  \"\"\"\n"
     ]
    }
   ],
   "source": [
    "# splitting \n",
    "\n",
    "y = clean_olympics_results[\"medal_type_GOLD\"].values\n",
    "X = clean_olympics_results.drop(['medal_type_BRONZE', 'medal_type_GOLD',\n",
    "       'medal_type_SILVER'],1).values\n",
    "# Reshape y to vertical\n",
    "y = y.reshape(-1,1)\n",
    "# Split the preprocessed data into a training and testing dataset\n",
    "X_train, X_test, y_train, y_test = train_test_split(X, y, random_state=78)"
   ]
  },
  {
   "cell_type": "code",
   "execution_count": 139,
   "metadata": {},
   "outputs": [],
   "source": [
    "# Create a StandardScaler instance\n",
    "scaler = StandardScaler()\n",
    "\n",
    "# Fit the StandardScaler\n",
    "X_scaler = scaler.fit(X_train)\n",
    "\n",
    "# Scale the data\n",
    "X_train_scaled = X_scaler.transform(X_train)\n",
    "X_test_scaled = X_scaler.transform(X_test)\n",
    "\n"
   ]
  },
  {
   "cell_type": "code",
   "execution_count": 140,
   "metadata": {},
   "outputs": [],
   "source": [
    "# # Create a method that creates a new Sequential model with hyperparameter options\n",
    "# def create_model(hp):\n",
    "#     nn_model = tf.keras.models.Sequential()\n",
    "\n",
    "#     # Allow kerastuner to decide which activation function to use in hidden layers\n",
    "#     activation = hp.Choice('activation',['relu','tanh','sigmoid'])\n",
    "    \n",
    "#     # Allow kerastuner to decide number of neurons in first layer\n",
    "#     nn_model.add(tf.keras.layers.Dense(units=hp.Int('first_units',\n",
    "#         min_value=1,\n",
    "#         max_value=10,\n",
    "#         step=2), activation=activation, input_dim=2))\n",
    "\n",
    "#     # Allow kerastuner to decide number of hidden layers and neurons in hidden layers\n",
    "#     for i in range(hp.Int('num_layers', 1, 6)):\n",
    "#         nn_model.add(tf.keras.layers.Dense(units=hp.Int('units_' + str(i),\n",
    "#             min_value=1,\n",
    "#             max_value=10,\n",
    "#             step=2),\n",
    "#             activation=activation))\n",
    "    \n",
    "#     nn_model.add(tf.keras.layers.Dense(units=1, activation=\"sigmoid\"))\n",
    "\n",
    "#     # Compile the model\n",
    "#     nn_model.compile(loss=\"binary_crossentropy\", optimizer='adam', metrics=[\"accuracy\"])\n",
    "    \n",
    "#     return nn_model"
   ]
  },
  {
   "cell_type": "code",
   "execution_count": 141,
   "metadata": {},
   "outputs": [],
   "source": [
    "# # Import the kerastuner library\n",
    "# import keras_tuner as kt\n",
    "\n",
    "# tuner = kt.Hyperband(\n",
    "#     create_model,\n",
    "#     objective=\"val_accuracy\",\n",
    "#     max_epochs=20,\n",
    "#     hyperband_iterations=2)"
   ]
  },
  {
   "cell_type": "code",
   "execution_count": 142,
   "metadata": {},
   "outputs": [],
   "source": [
    "# Run the kerastuner search for best hyperparameters\n",
    "# tuner.search(X_train_scaled,y_train,epochs=20,validation_data=(X_test_scaled,y_test))"
   ]
  },
  {
   "cell_type": "code",
   "execution_count": 143,
   "metadata": {},
   "outputs": [],
   "source": [
    "# # Evaluate the model using the test data\n",
    "# model_loss, model_accuracy = nn.evaluate(X_test,y_test,verbose=2)\n",
    "# print(f\"Loss: {model_loss}, Accuracy: {model_accuracy}\")"
   ]
  },
  {
   "cell_type": "markdown",
   "metadata": {},
   "source": [
    "<h2> Trying randomForest modeling </h2>"
   ]
  },
  {
   "cell_type": "code",
   "execution_count": 144,
   "metadata": {},
   "outputs": [],
   "source": [
    "import pandas as pd\n",
    "from sklearn.model_selection import train_test_split\n",
    "from sklearn.ensemble import RandomForestClassifier\n",
    "from sklearn.tree import DecisionTreeClassifier\n",
    "\n",
    "from sklearn.metrics import confusion_matrix\n",
    "from sklearn.pipeline import Pipeline\n",
    "from sklearn.preprocessing import StandardScaler\n",
    "from sklearn import preprocessing\n",
    "import numpy as np\n",
    "import matplotlib.pyplot as plt\n",
    "import seaborn as sns\n",
    "from sklearn import tree\n",
    "from sklearn.tree import DecisionTreeClassifier\n",
    "from sklearn.model_selection import RandomizedSearchCV\n",
    "from sklearn.metrics import accuracy_score\n",
    "from sklearn.decomposition import PCA"
   ]
  },
  {
   "cell_type": "markdown",
   "metadata": {},
   "source": [
    "Note: Remainder of code derived from https://github.com/dnishimoto/python-deep-learning/blob/master/Random%20Forest%20Tennis.ipynb"
   ]
  },
  {
   "cell_type": "code",
   "execution_count": 145,
   "metadata": {},
   "outputs": [
    {
     "name": "stderr",
     "output_type": "stream",
     "text": [
      "/Users/rafaelpeterson/opt/anaconda3/envs/mlenv/lib/python3.7/site-packages/sklearn/pipeline.py:394: DataConversionWarning: A column-vector y was passed when a 1d array was expected. Please change the shape of y to (n_samples,), for example using ravel().\n",
      "  self._final_estimator.fit(Xt, y, **fit_params_last_step)\n"
     ]
    },
    {
     "data": {
      "text/plain": [
       "Text(0.5, 257.44, 'Predicted label')"
      ]
     },
     "execution_count": 145,
     "metadata": {},
     "output_type": "execute_result"
    },
    {
     "data": {
      "image/png": "[encoded data removed]",
      "text/plain": [
       "<Figure size 432x288 with 2 Axes>"
      ]
     },
     "metadata": {},
     "output_type": "display_data"
    }
   ],
   "source": [
    "\n",
    "pipeline= Pipeline([\n",
    "   ('scaler',StandardScaler()),\n",
    "    ('pca', PCA()),\n",
    "   ('clf',RandomForestClassifier(n_estimators=5,max_depth=1,min_samples_leaf=3, max_features=6, random_state=42))\n",
    "])\n",
    "pipeline.fit(X_train,y_train)\n",
    "\n",
    "#Predicting y for X_val\n",
    "y_pred = pipeline.predict(X)\n",
    "cm = confusion_matrix(y,y_pred)\n",
    "\n",
    "class_names=[1,2]\n",
    "fig, ax = plt.subplots()\n",
    "tick_marks = np.arange(len(class_names))\n",
    "plt.xticks(tick_marks, class_names)\n",
    "plt.yticks(tick_marks, class_names)\n",
    "sns.heatmap(pd.DataFrame(cm), annot=True, cmap=\"coolwarm\" ,fmt='g')\n",
    "ax.xaxis.set_label_position(\"top\")\n",
    "plt.tight_layout()\n",
    "plt.title('Confusion matrix', y=1.1)\n",
    "plt.ylabel('Actual label')\n",
    "plt.xlabel('Predicted label')"
   ]
  },
  {
   "cell_type": "code",
   "execution_count": 147,
   "metadata": {},
   "outputs": [],
   "source": [
    "dt= DecisionTreeClassifier(max_depth=1,min_samples_leaf=3, max_features=6, random_state=42)\n",
    "dt.fit(X_train, y_train)\n",
    "\n",
    "\n",
    "chosen_tree=pipeline['clf'].estimators_[4]"
   ]
  },
  {
   "cell_type": "code",
   "execution_count": 148,
   "metadata": {},
   "outputs": [
    {
     "name": "stdout",
     "output_type": "stream",
     "text": [
      "Accuracy Score 0.6767714687939934\n",
      "Best params {'n_estimators': 3, 'min_samples_leaf': 1, 'max_features': 8, 'max_depth': 6}\n",
      "Best score 0.6703792340525757\n"
     ]
    }
   ],
   "source": [
    "# RandomForest classifier\n",
    "parameter_grid={'n_estimators':[1,2,3,4,5],'max_depth':[2,4,6,8,10],'min_samples_leaf': \n",
    "[1,2,4],'max_features':[1,2,3,4,5,6,7,8]}\n",
    "\n",
    "number_models=4\n",
    "random_RandomForest_class=RandomizedSearchCV(\n",
    "estimator=pipeline['clf'],\n",
    "param_distributions=parameter_grid,\n",
    "n_iter=number_models,\n",
    "scoring='accuracy',\n",
    "n_jobs=2,\n",
    "cv=4,\n",
    "refit=True,\n",
    "return_train_score=True)\n",
    "\n",
    "random_RandomForest_class.fit(X_train,y_train.ravel())\n",
    "predictions=random_RandomForest_class.predict(X)\n",
    "\n",
    "print(\"Accuracy Score\",accuracy_score(y,predictions));\n",
    "print(\"Best params\",random_RandomForest_class.best_params_)\n",
    "print(\"Best score\",random_RandomForest_class.best_score_)\n"
   ]
  },
  {
   "cell_type": "code",
   "execution_count": 149,
   "metadata": {},
   "outputs": [
    {
     "name": "stdout",
     "output_type": "stream",
     "text": [
      "Principle component analysis show the importance of each feature\n"
     ]
    },
    {
     "data": {
      "image/png": "[encoded data removed]",
      "text/plain": [
       "<Figure size 1152x576 with 1 Axes>"
      ]
     },
     "metadata": {},
     "output_type": "display_data"
    },
    {
     "data": {
      "image/png": "[encoded data removed]",
      "text/plain": [
       "<Figure size 1152x576 with 1 Axes>"
      ]
     },
     "metadata": {},
     "output_type": "display_data"
    }
   ],
   "source": [
    "print('Principle component analysis show the importance of each feature')\n",
    "pca=pipeline['pca']\n",
    "pca_features=pca.components_\n",
    "xs = pca_features[:,0]\n",
    "\n",
    "fig,ax = plt.subplots(figsize=(16,8))\n",
    "# Assign 1st column of pca_features: ys\n",
    "ys = pca_features[:,1]\n",
    "# Scatter plot xs vs ys\n",
    "sns.scatterplot(x=xs, y=ys)\n",
    "\n",
    "mean = pca.mean_\n",
    "first_pc = pca.components_[0,:]\n",
    "# Plot first_pc as an arrow, starting at mean\n",
    "plt.arrow(mean[0],mean[1], first_pc[0], first_pc[1], color='red', width=0.01)\n",
    "\n",
    "plt.axis('equal')\n",
    "plt.show()\n",
    "\n",
    "fig,ax = plt.subplots(figsize=(16,8))\n",
    "features = range(pca.n_components_)\n",
    "ax.bar(features, pca.explained_variance_)\n",
    "plt.xticks(features)\n",
    "plt.ylabel('variance')\n",
    "plt.xlabel('pca features')\n",
    "plt.show()"
   ]
  }
 ],
 "metadata": {
  "interpreter": {
   "hash": "5b57491aa83f3200c81a1752fd6f2803b7c8cfa5d8d46e6f66869700c49d85b0"
  },
  "kernelspec": {
   "display_name": "Python 3.7.11 ('mlenv')",
   "language": "python",
   "name": "python3"
  },
  "language_info": {
   "codemirror_mode": {
    "name": "ipython",
    "version": 3
   },
   "file_extension": ".py",
   "mimetype": "text/x-python",
   "name": "python",
   "nbconvert_exporter": "python",
   "pygments_lexer": "ipython3",
   "version": "3.7.11"
  },
  "orig_nbformat": 4
 },
 "nbformat": 4,
 "nbformat_minor": 2
}
