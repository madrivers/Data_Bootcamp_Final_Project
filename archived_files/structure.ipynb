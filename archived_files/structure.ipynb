{
 "cells": [
  {
   "cell_type": "code",
   "execution_count": 2,
   "metadata": {},
   "outputs": [],
   "source": [
    "import pandas as pd\n",
    "\n",
    "\n",
    "athletes = pd.read_csv('olympic_athletes.csv')\n",
    "hosts = pd.read_csv('olympic_hosts.csv')\n",
    "results = pd.read_csv('olympic_results.csv')\n",
    "medal = pd.read_csv('olympic_medals.csv')"
   ]
  },
  {
   "cell_type": "code",
   "execution_count": 3,
   "metadata": {},
   "outputs": [
    {
     "data": {
      "text/plain": [
       "Index(['athlete_url', 'athlete_full_name', 'first_game', 'athlete_year_birth',\n",
       "       'athlete_medals', 'games_participations', 'bio'],\n",
       "      dtype='object')"
      ]
     },
     "execution_count": 3,
     "metadata": {},
     "output_type": "execute_result"
    }
   ],
   "source": [
    "athletes.columns"
   ]
  },
  {
   "cell_type": "code",
   "execution_count": 4,
   "metadata": {},
   "outputs": [
    {
     "data": {
      "text/plain": [
       "Index(['game_slug', 'game_end_date', 'game_start_date', 'game_location',\n",
       "       'game_name', 'game_season', 'game_year'],\n",
       "      dtype='object')"
      ]
     },
     "execution_count": 4,
     "metadata": {},
     "output_type": "execute_result"
    }
   ],
   "source": [
    "hosts.columns"
   ]
  },
  {
   "cell_type": "code",
   "execution_count": 5,
   "metadata": {},
   "outputs": [
    {
     "data": {
      "text/plain": [
       "Index(['discipline_title', 'event_title', 'slug_game', 'participant_type',\n",
       "       'medal_type', 'athletes', 'rank_equal', 'rank_position', 'country_name',\n",
       "       'country_code', 'country_3_letter_code', 'athlete_url',\n",
       "       'athlete_full_name', 'value_unit', 'value_type'],\n",
       "      dtype='object')"
      ]
     },
     "execution_count": 5,
     "metadata": {},
     "output_type": "execute_result"
    }
   ],
   "source": [
    "results.columns"
   ]
  },
  {
   "cell_type": "code",
   "execution_count": 7,
   "metadata": {},
   "outputs": [
    {
     "data": {
      "text/plain": [
       "Index(['discipline_title', 'slug_game', 'event_title', 'event_gender',\n",
       "       'medal_type', 'participant_type', 'participant_title', 'athlete_url',\n",
       "       'athlete_full_name', 'country_name', 'country_code',\n",
       "       'country_3_letter_code'],\n",
       "      dtype='object')"
      ]
     },
     "execution_count": 7,
     "metadata": {},
     "output_type": "execute_result"
    }
   ],
   "source": [
    "medal.columns"
   ]
  },
  {
   "cell_type": "code",
   "execution_count": 9,
   "metadata": {},
   "outputs": [
    {
     "data": {
      "text/plain": [
       "array(['Spain', 'San Marino', 'United States of America', nan,\n",
       "       \"People's Republic of China 1\", 'United States of America 1',\n",
       "       'ROC 1', 'Ukraine', 'China', 'United States', 'Germany', 'Canada',\n",
       "       'Great Britain', 'ROC', 'Mexico', 'Cuba', 'Slovakia', 'Australia',\n",
       "       'Czech Republic', \"People's Republic of China\", 'Hungary',\n",
       "       'Belarus', 'Poland', 'New Zealand', 'Sweden', 'Brazil', 'France',\n",
       "       'Denmark', 'Norway', 'Fiji', 'Argentina', 'Japan',\n",
       "       'Hong Kong, China', 'MIZUTANI Jun / ITO Mima',\n",
       "       'XU Xin / LIU Shiwen', 'LIN Yun Ju / CHENG I Ching', 'Serbia',\n",
       "       'Italy', 'Netherlands', 'Estonia', 'Republic of Korea',\n",
       "       'LEE Yang/WANG Chi-Lin', 'LI Jun Hui/LIU Yu Chen',\n",
       "       'CHIA Aaron/SOH Wooi Yik', 'POLII Greysia/RAHAYU Apriyani',\n",
       "       'CHEN Qing Chen/JIA Yi Fan', 'KIM Soyeong/KONG Heeyong',\n",
       "       'WANG Yi Lyu/HUANG Dong Ping', 'ZHENG Si Wei/HUANG Ya Qiong',\n",
       "       'WATANABE Yuta/HIGASHINO Arisa', 'Greece',\n",
       "       'Pavlyuchenkova / Rublev', 'Vesnina / Karatsev', 'Barty / Peers',\n",
       "       'Mektic / Pavic', 'Cilic / Dodig', 'Daniell / Venus',\n",
       "       'Krejcikova / Siniakova', 'Bencic / Golubic', 'Pigossi / Stefani',\n",
       "       'Israel', 'Chinese Taipei', 'Dominican Rep.', 'Belgium',\n",
       "       'Dominican Republic', 'Jamaica', 'Botswana', 'Romania', 'Croatia',\n",
       "       'Ireland', 'Latvia', 'Bulgaria', 'India', 'April/Alix',\n",
       "       'Artacho Del Solar/Clancy', 'Verge-Depre, A./Heidrich',\n",
       "       'Mol A./Sorum C.', 'Krasilnikov/Stoyanovskiy', 'Cherif/Ahmed',\n",
       "       'Norway team', 'Republic of Korea team', 'Netherlands team',\n",
       "       'Japan team', 'United States team', 'France team', 'Italy team',\n",
       "       'Sweden team', 'Germany team', 'Belarus team', 'Austria team',\n",
       "       'Canada team', 'Switzerland team',\n",
       "       'Olympic Athletes from Russia team', 'Canada team #1',\n",
       "       'France team #1', 'United States team #2', 'Germany team #1',\n",
       "       \"People's Republic of China team #1\", 'Poland team',\n",
       "       'Hungary team', \"People's Republic of China team\",\n",
       "       'Austria team #1', 'Germany team #2', 'Finland team',\n",
       "       'United States team #1', 'Germany team #3',\n",
       "       'Republic of Korea team #1', 'Latvia team #2', 'Serbia team',\n",
       "       'Spain team', 'Fiji team', 'Great Britain team',\n",
       "       'South Africa team', 'Australia team', 'New Zealand team',\n",
       "       'Russian Federation team', 'Bulgaria team', 'Ukraine team',\n",
       "       'Romania team', 'Brazil team', 'Nigeria team', 'Denmark team',\n",
       "       'Jamaica team', 'The Bahamas team', 'Brazil team #1',\n",
       "       'Italy team #1', 'Netherlands team #1', 'Lithuania team',\n",
       "       'Slovakia team', 'Czech Republic team', 'Croatia team',\n",
       "       'Ireland team', 'Estonia team', 'Chinese Taipei team',\n",
       "       'Greece team', 'Argentina team', 'Belgium team', 'Malaysia team',\n",
       "       'Indonesia team #1', 'Spain team #2', 'Russian Federation team #2',\n",
       "       'Czech Republic team #1', 'Switzerland team #1', 'Latvia team #1',\n",
       "       'Great Britain team #1', 'Russian Federation team #1',\n",
       "       'Latvia team', 'Mexico team', 'Kingdom of Saudi Arabia team',\n",
       "       'Great Britain team #2', 'Montenegro team',\n",
       "       'Trinidad and Tobago team', 'Portugal team', 'Slovenia team',\n",
       "       'Singapore team', 'France team #2',\n",
       "       \"People's Republic of China team #2\", 'Denmark team #1',\n",
       "       'Japan team #1', 'Canada team #2', 'Cuba team', 'Iceland team',\n",
       "       'Brazil team #2', 'Sweden team #2', 'Spain team #1',\n",
       "       \"People's Republic of China team #3\", 'Ukraine team #1',\n",
       "       'Hong Kong, China team #2', 'Paraguay team', 'Chile team',\n",
       "       'Denmark team #2', 'Republic of Korea team #2',\n",
       "       'Serbia and Montenegro team', 'Switzerland team #2',\n",
       "       'Poland team #1', 'Cameroon team', 'Indonesia team',\n",
       "       'Australia team #1', 'Republic of Moldova team',\n",
       "       'Malaysia team #1', 'Italy team #2', 'Unified Team team',\n",
       "       'Czechoslovakia team #1', 'Malaysia team #2', 'Pakistan team',\n",
       "       'Ghana team', \"Democratic People's Republic of Korea team #1\",\n",
       "       'Unified Team team #1', 'Unified Team team #2',\n",
       "       'Czechoslovakia team', 'West Germany team', 'Soviet Union team',\n",
       "       'East Germany team', 'Yugoslavia team', 'Peru team',\n",
       "       'Soviet Union team #1', 'Soviet Union team #2',\n",
       "       'East Germany team #1', 'East Germany team #2',\n",
       "       'West Germany team #1', 'India team', 'Zimbabwe team',\n",
       "       \"Democratic People's Republic of Korea team\", 'Kenya team',\n",
       "       'West Germany team #2', 'Romania team #1', 'Pandora', 'Lady C',\n",
       "       'Widgeon', 'Gem', 'Glider', 'Humbug V', 'White Lady', 'Mutafo',\n",
       "       'Aphrodite', 'Barrenjoey', 'Rush VII', 'Bingo', 'Austria team #2',\n",
       "       'West Indies Federation team', 'Tornado', 'Ma&#39;Lindo',\n",
       "       'Shrew II', 'Nirefs', 'Tango', 'Venilia', 'Sirene', 'Skum',\n",
       "       'Macky VI', 'Minotaur', 'Web II', 'Ballerina IV', 'Uruguay team',\n",
       "       'Rush V', 'Vision', 'Buraddoo', 'Jest', 'Falcon IV', 'Chuckles',\n",
       "       'Slaghoken II', 'Tip', 'Bluebottle', 'Kathleen', 'Merope III',\n",
       "       'Gem IV', 'Llanoria', 'Elisabeth X', 'Ralia', 'Merope', 'Comanche',\n",
       "       'Espadarte', 'Complex II', 'Encore', 'Hojwa', 'Pan', 'Gustel X',\n",
       "       'Hungary team #1', 'Slaghoken', 'Snap', 'Swift', 'Symphony',\n",
       "       'Margaret', 'Hilarius', 'Kurush II', 'Starita', 'Djinn',\n",
       "       'Ali-Baba II', 'Italia', 'Silja', 'Germania II', 'Lalage',\n",
       "       'Lully II', 'May Be', 'Wannsee', 'Sunshine', 'Bem II', 'Bissbi',\n",
       "       'Gallant', 'Caprice', 'Jupiter', 'Joy', 'Swedish Star', 'Angelita',\n",
       "       'Santa Maria', \"L'Aile VI\", 'Hollandia', 'Sylvia', 'Norna',\n",
       "       'Hi-Hi', 'Tutti V', 'Haiti team', 'Bera', 'Emily', 'Namoussa',\n",
       "       'Elisabeth V', 'Bonzo', 'Willem-Six', 'Belgium team #1',\n",
       "       'Heira II', 'Ancora', 'Fornebo', 'Sif', 'Elsie', 'Atlanta', 'Jo',\n",
       "       'Tan-Fe-Pah', 'Irene', 'Oranje', 'Rose Pompon', 'Kullan',\n",
       "       'Mosk II', 'Beatrijs III #1', 'Boreas #2', 'Sildra #1', 'Lyn #2',\n",
       "       'Antwerpia V', 'Edelweiss II #1', 'Marmi II #1', 'Stella #2',\n",
       "       'Eleda', 'France team #3', 'Great Britain team #3',\n",
       "       'Sweden team #3', 'Sweden team #1', 'Kitty #1', 'Nina',\n",
       "       'Gallia II', 'Mac Miche', 'Nurdug II', 'Kerstin #1', 'Magda IX',\n",
       "       'Erna Signe', 'Heatherbell', 'Taifun', 'Sans Atout #1',\n",
       "       'Lucky Girl #1', 'Ludwigshafener Ruderverein',\n",
       "       'Thames Rowing Club', 'Polyteknisk Roklub #1',\n",
       "       'Kristiania Roklub #1', 'Leander Club #1',\n",
       "       'New College, Oxford #2', 'Berliner Ruderverein von 1876 #2',\n",
       "       'Nykjøbings paa Falster', 'Roddklubben af 1912 #1',\n",
       "       'Ormsund Roklub #2', 'England #1', 'Australasia team',\n",
       "       'Bohemia team', 'Cornwall', 'Gyrinus #1', 'Camille', 'Dormy #1',\n",
       "       'Zut', 'Guyoni', 'Cobweb #1', 'Vinga #1', 'Sorais #2', 'Heroine',\n",
       "       'Hera #1', 'Mouchette #2', 'Royal Club Nautique de Gand',\n",
       "       'Toronto Argonauts', 'Cambridge University Boat Club #2',\n",
       "       'Leander Club #1 #1', 'Leander Club #2 #2', 'Argonaut Rowing Club',\n",
       "       'Berliner Ruderclub', 'Magdalen College Boat Club #1',\n",
       "       'Leander Club #2', 'Amstel Amsterdam', 'Roehampton #1',\n",
       "       'Ireland #3', 'Hurlingham #2', 'Ireland #2', 'Scotland #3',\n",
       "       'Wales #4', 'London City Police #1', 'Liverpool Police Team #2',\n",
       "       'K Division Metropolitan Police Team #3', 'New York Athletic Club',\n",
       "       'Chicago Athletic Association', 'Western Golf Association #1',\n",
       "       'Trans-Mississippi Golf Association #2',\n",
       "       'United States Golf Association #3', 'Atalanta Boat Club #1',\n",
       "       'Ravenswood Boat Club #2', 'Independent Rowing Club #3',\n",
       "       'Vesper Boat Club', 'Century Boat Club #1',\n",
       "       'Mound City Rowing Club #2', 'Western Rowing Club #3',\n",
       "       'Seawanhaka Boat Club #1', 'Atalanta Boat Club #2',\n",
       "       'Milwaukee Athletic Club #1',\n",
       "       'St. Louis Southwest Turnverein #1 #2',\n",
       "       'St. Louis Southwest Turnverein #2 #3', 'United States team #3',\n",
       "       'United States team #4', 'Galt Football Club',\n",
       "       \"Christian Brothers' College #1\", 'St. Rose #2',\n",
       "       'Philadelphia Turngemeinde, Philadelphia',\n",
       "       'New York Turnverein, New York', 'Central Turnverein, Chicago',\n",
       "       'Mixed team', 'New York Athletic Club #1 #1',\n",
       "       'Chicago Athletic Association #2', 'Missouri Athletic Club #3',\n",
       "       'Potomac Archers', 'Cincinnati Archers', 'Boston Archers',\n",
       "       'Winnipeg Shamrocks #1', 'St. Louis Amateur Athletic Association',\n",
       "       'Mohawk Indians #2', 'New York Athletic Club #1',\n",
       "       'Racing Club de France', 'Upton Park FC', 'USFSA',\n",
       "       'Univ. of Brussels', 'Osborne Swimming Club, Manchester',\n",
       "       'Brussels Swimming and Water Polo Club', 'Libellule de Paris #1',\n",
       "       'Pupilles de Neptune de Lille #2 #1',\n",
       "       'Amateur Athletic Association', 'Devon and Somerset Wanderers',\n",
       "       'Union des Sociétés Français de Sports Athletiques', 'Scotia',\n",
       "       'Crabe II #1', 'Scamasaxe #2', 'Esterel #1', 'Quand-Même #2',\n",
       "       'Laurea #1', 'Lerina', 'Martha #1', 'Nina Claire #2',\n",
       "       'Aschenbrodel', 'Baby #1', 'Sarcelle #3', 'Olle', 'Favorite #1',\n",
       "       'Mignon #3', 'Femur #1', 'Mascotte', 'Gitana #2', 'Fantlet #7',\n",
       "       'Bona Fide', 'Frimousse', 'Carabinier #15', 'Scamasaxe #3',\n",
       "       'Gwendoline #2', 'Cicely #1', 'Brynhild #2', 'Formosa',\n",
       "       'Frankfurt Club', 'Moseley Wanderers', 'Minerva Amsterdam',\n",
       "       'Societé Nautique de la Marne #1', 'Rowing Club Castillon #3',\n",
       "       'Germania Ruder Club, Hamburg #2',\n",
       "       'Ludwigshafener Ruder Verein #1', \"Cercle de l'Aviron Roubaix #4\",\n",
       "       'Club Nautique de Lyon #2', 'Favorite Hammonia #3',\n",
       "       'Mixed team #1', 'Mixed team #2', 'Mixed team #3',\n",
       "       'Deutscher Schwimm Verband Berlin', 'Tritons Lillois #2',\n",
       "       'Pupilles de Neptune de Lille #1', 'Foxhunters Hurlingham #1',\n",
       "       'BLO Polo Club, Rugby #2', 'Bagatelle Polo Club, Paris #3',\n",
       "       'A North American Team #4', 'Panellinios Gymnastikos Syllogos #1',\n",
       "       'Ethnikos Gymnastikos Syllogos #2', 'Greece team #1'], dtype=object)"
      ]
     },
     "execution_count": 9,
     "metadata": {},
     "output_type": "execute_result"
    }
   ],
   "source": [
    "medal['participant_title'].unique()"
   ]
  },
  {
   "cell_type": "code",
   "execution_count": null,
   "metadata": {},
   "outputs": [],
   "source": []
  }
 ],
 "metadata": {
  "interpreter": {
   "hash": "2465f5ea99e6159cfdb0e68412b92ec561396e12a08b31934405719364ff3287"
  },
  "kernelspec": {
   "display_name": "Python 3.7.10 64-bit ('PythonData': conda)",
   "language": "python",
   "name": "python3"
  },
  "language_info": {
   "codemirror_mode": {
    "name": "ipython",
    "version": 3
   },
   "file_extension": ".py",
   "mimetype": "text/x-python",
   "name": "python",
   "nbconvert_exporter": "python",
   "pygments_lexer": "ipython3",
   "version": "3.7.10"
  },
  "orig_nbformat": 4
 },
 "nbformat": 4,
 "nbformat_minor": 2
}
